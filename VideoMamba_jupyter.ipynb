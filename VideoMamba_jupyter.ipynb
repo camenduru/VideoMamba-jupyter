{
  "cells": [
    {
      "cell_type": "markdown",
      "metadata": {
        "id": "view-in-github"
      },
      "source": [
        "[![Open In Colab](https://colab.research.google.com/assets/colab-badge.svg)](https://colab.research.google.com/github/camenduru/VideoMamba-jupyter/blob/main/VideoMamba_jupyter.ipynb)"
      ]
    },
    {
      "cell_type": "code",
      "execution_count": null,
      "metadata": {
        "id": "VjYy0F2gZIPR"
      },
      "outputs": [],
      "source": [
        "%cd /content\n",
        "!git clone -b dev https://github.com/camenduru/VideoMamba-hf\n",
        "%cd /content/VideoMamba-hf\n",
        "!pip install gradio==3.50.2 decord einops timm ninja\n",
        "\n",
        "!pip install https://github.com/camenduru/wheels/releases/download/colab2/causal_conv1d-1.0.0-cp310-cp310-linux_x86_64.whl\n",
        "# %cd /content\n",
        "# !git clone https://github.com/Dao-AILab/causal-conv1d\n",
        "# %cd /content/causal-conv1d\n",
        "# !git checkout v1.0.0\n",
        "# !CAUSAL_CONV1D_FORCE_BUILD=TRUE pip wheel .\n",
        "\n",
        "!pip install https://github.com/camenduru/wheels/releases/download/colab2/mamba_ssm-1.0.1-cp310-cp310-linux_x86_64.whl\n",
        "# %cd /content\n",
        "# !git clone https://github.com/state-spaces/mamba\n",
        "# %cd /content/mamba\n",
        "# !git checkout v1.0.1\n",
        "# !CAUSAL_CONV1D_FORCE_BUILD=TRUE pip wheel .\n",
        "\n",
        "!python app.py"
      ]
    }
  ],
  "metadata": {
    "accelerator": "GPU",
    "colab": {
      "gpuType": "T4",
      "provenance": []
    },
    "kernelspec": {
      "display_name": "Python 3",
      "name": "python3"
    },
    "language_info": {
      "name": "python"
    }
  },
  "nbformat": 4,
  "nbformat_minor": 0
}
